{
 "cells": [
  {
   "cell_type": "code",
   "execution_count": null,
   "metadata": {
    "execution": {
     "iopub.execute_input": "2022-12-26T21:12:02.944790Z",
     "iopub.status.busy": "2022-12-26T21:12:02.943843Z",
     "iopub.status.idle": "2022-12-26T21:12:10.338607Z",
     "shell.execute_reply": "2022-12-26T21:12:10.337556Z",
     "shell.execute_reply.started": "2022-12-26T21:12:02.944684Z"
    }
   },
   "outputs": [],
   "source": [
    "import numpy as np\n",
    "import pandas as pd\n",
    "import matplotlib.pyplot as plt \n",
    "import os \n",
    "import glob\n",
    "import cv2\n",
    "import tensorflow as tf\n",
    "# import tensorflow_hub as hub\n",
    "import warnings\n",
    "from sklearn.model_selection import train_test_split\n",
    "from tensorflow.keras.preprocessing.image import ImageDataGenerator\n",
    "warnings.filterwarnings('ignore')"
   ]
  },
  {
   "cell_type": "markdown",
   "metadata": {},
   "source": [
    "# Data Preprocessing"
   ]
  },
  {
   "cell_type": "code",
   "execution_count": null,
   "metadata": {
    "execution": {
     "iopub.execute_input": "2022-12-26T21:12:13.841547Z",
     "iopub.status.busy": "2022-12-26T21:12:13.840628Z",
     "iopub.status.idle": "2022-12-26T21:12:13.845806Z",
     "shell.execute_reply": "2022-12-26T21:12:13.844707Z",
     "shell.execute_reply.started": "2022-12-26T21:12:13.841509Z"
    },
    "id": "xUgyYOceuNPl"
   },
   "outputs": [],
   "source": [
    "# train_path = r\"/kaggle/input/nn23-sports-image-classification/Train\"\n",
    "# test_path =r\"/kaggle/input/nn23-sports-image-classification/Test\"\n",
    "train_path = r\"../nn23-sports-image-classification/Train\"\n",
    "test_path =r\"../nn23-sports-image-classification/Test\""
   ]
  },
  {
   "cell_type": "code",
   "execution_count": null,
   "metadata": {
    "execution": {
     "iopub.execute_input": "2022-12-26T21:12:18.771142Z",
     "iopub.status.busy": "2022-12-26T21:12:18.770583Z",
     "iopub.status.idle": "2022-12-26T21:12:19.091446Z",
     "shell.execute_reply": "2022-12-26T21:12:19.090334Z",
     "shell.execute_reply.started": "2022-12-26T21:12:18.771061Z"
    },
    "id": "P90ipdBnuNPl"
   },
   "outputs": [],
   "source": [
    "train_imgs=os.listdir(train_path)\n",
    "test_imgs=os.listdir(test_path)"
   ]
  },
  {
   "cell_type": "code",
   "execution_count": null,
   "metadata": {
    "execution": {
     "iopub.execute_input": "2022-12-25T19:36:22.854479Z",
     "iopub.status.busy": "2022-12-25T19:36:22.853530Z",
     "iopub.status.idle": "2022-12-25T19:36:22.859880Z",
     "shell.execute_reply": "2022-12-25T19:36:22.858927Z",
     "shell.execute_reply.started": "2022-12-25T19:36:22.854444Z"
    },
    "id": "iAvwbA6cuNPm"
   },
   "outputs": [],
   "source": [
    "code = {'Basketball' : 0 , 'Football' : 1 , 'Rowing' : 2 , 'Swimming' :3 ,\"Tennis\" : 4 , \"Yoga\" : 5}\n",
    "\n",
    "def get_name(n):\n",
    "\n",
    "    for x,y in code.items() :\n",
    "        if y == n :\n",
    "            return x"
   ]
  },
  {
   "cell_type": "code",
   "execution_count": null,
   "metadata": {
    "execution": {
     "iopub.execute_input": "2022-12-25T19:36:22.861644Z",
     "iopub.status.busy": "2022-12-25T19:36:22.861271Z",
     "iopub.status.idle": "2022-12-25T19:36:22.870382Z",
     "shell.execute_reply": "2022-12-25T19:36:22.869442Z",
     "shell.execute_reply.started": "2022-12-25T19:36:22.861609Z"
    }
   },
   "outputs": [],
   "source": [
    "#get labels for training\n",
    "train_labels = []\n",
    "\n",
    "for cur_img in train_imgs:\n",
    "    if \"Basketball\" in cur_img :\n",
    "        label = (code[\"Basketball\"])\n",
    "    elif \"Football\" in cur_img :\n",
    "        label = (code[\"Football\"])\n",
    "    elif \"Rowing\" in cur_img :\n",
    "        label = (code[\"Rowing\"])\n",
    "    elif \"Swimming\" in cur_img :\n",
    "        label = (code[\"Swimming\"])\n",
    "    elif \"Tennis\" in cur_img :\n",
    "        label = (code[\"Tennis\"])\n",
    "    elif \"Yoga\" in cur_img :\n",
    "        label = (code[\"Yoga\"])\n",
    "\n",
    "    train_labels.append(label)"
   ]
  },
  {
   "cell_type": "code",
   "execution_count": null,
   "metadata": {
    "execution": {
     "iopub.execute_input": "2022-12-25T19:36:22.872373Z",
     "iopub.status.busy": "2022-12-25T19:36:22.871967Z",
     "iopub.status.idle": "2022-12-25T19:36:22.880749Z",
     "shell.execute_reply": "2022-12-25T19:36:22.879772Z",
     "shell.execute_reply.started": "2022-12-25T19:36:22.872340Z"
    },
    "id": "eyTrnOsSuNPn"
   },
   "outputs": [],
   "source": [
    "#reading images \n",
    "def reading_resize(train_imgs,train_path,image_size):\n",
    "    l=[]\n",
    "    for g in train_imgs:   \n",
    "        img_path=os.path.join(train_path,g)\n",
    "        img=cv2.imread(img_path)   \n",
    "        img=cv2.cvtColor(img,cv2.COLOR_BGR2RGB)\n",
    "        res = cv2.resize(img, (image_size, image_size))\n",
    "        l.append(res)\n",
    "        \n",
    "    return l"
   ]
  },
  {
   "cell_type": "code",
   "execution_count": null,
   "metadata": {
    "execution": {
     "iopub.execute_input": "2022-12-25T19:36:22.882332Z",
     "iopub.status.busy": "2022-12-25T19:36:22.882028Z",
     "iopub.status.idle": "2022-12-25T19:36:30.618527Z",
     "shell.execute_reply": "2022-12-25T19:36:30.617542Z",
     "shell.execute_reply.started": "2022-12-25T19:36:22.882306Z"
    },
    "id": "6ltz51M8_jz3"
   },
   "outputs": [],
   "source": [
    "#reading training data\n",
    "image_size=224\n",
    "l_train=reading_resize(train_imgs,train_path,image_size)"
   ]
  },
  {
   "cell_type": "code",
   "execution_count": null,
   "metadata": {
    "colab": {
     "base_uri": "https://localhost:8080/"
    },
    "execution": {
     "iopub.execute_input": "2022-12-25T19:36:30.622665Z",
     "iopub.status.busy": "2022-12-25T19:36:30.622341Z",
     "iopub.status.idle": "2022-12-25T19:36:30.703660Z",
     "shell.execute_reply": "2022-12-25T19:36:30.702532Z",
     "shell.execute_reply.started": "2022-12-25T19:36:30.622636Z"
    },
    "id": "DHoEAib9uNPo",
    "outputId": "a8433615-3531-4b5b-ae6c-44b0f542e0d6"
   },
   "outputs": [],
   "source": [
    "train = np.array(l_train)\n",
    "labels=np.array(train_labels)\n",
    "print(train.shape)"
   ]
  },
  {
   "cell_type": "code",
   "execution_count": null,
   "metadata": {
    "execution": {
     "iopub.execute_input": "2022-12-25T19:36:30.706258Z",
     "iopub.status.busy": "2022-12-25T19:36:30.705801Z",
     "iopub.status.idle": "2022-12-25T19:36:30.948170Z",
     "shell.execute_reply": "2022-12-25T19:36:30.947184Z",
     "shell.execute_reply.started": "2022-12-25T19:36:30.706217Z"
    }
   },
   "outputs": [],
   "source": [
    "plt.imshow(train[0])\n",
    "print(get_name(labels[0]))"
   ]
  },
  {
   "cell_type": "code",
   "execution_count": null,
   "metadata": {
    "execution": {
     "iopub.execute_input": "2022-12-25T19:36:30.953442Z",
     "iopub.status.busy": "2022-12-25T19:36:30.953123Z",
     "iopub.status.idle": "2022-12-25T19:36:30.964376Z",
     "shell.execute_reply": "2022-12-25T19:36:30.963553Z",
     "shell.execute_reply.started": "2022-12-25T19:36:30.953416Z"
    }
   },
   "outputs": [],
   "source": [
    "pd.DataFrame(labels).value_counts()"
   ]
  },
  {
   "cell_type": "code",
   "execution_count": null,
   "metadata": {
    "execution": {
     "iopub.execute_input": "2022-12-25T19:36:30.966238Z",
     "iopub.status.busy": "2022-12-25T19:36:30.965669Z",
     "iopub.status.idle": "2022-12-25T19:36:31.655355Z",
     "shell.execute_reply": "2022-12-25T19:36:31.654305Z",
     "shell.execute_reply.started": "2022-12-25T19:36:30.966203Z"
    }
   },
   "outputs": [],
   "source": [
    "X_train, X_val, y_train, y_val = train_test_split(train , labels, test_size = 0.2,stratify=labels,shuffle=True)\n",
    "\n",
    "X_train =X_train/255.0\n",
    "X_val =X_val/255.0"
   ]
  },
  {
   "cell_type": "code",
   "execution_count": null,
   "metadata": {
    "execution": {
     "iopub.execute_input": "2022-12-25T19:36:31.657384Z",
     "iopub.status.busy": "2022-12-25T19:36:31.657006Z",
     "iopub.status.idle": "2022-12-25T19:36:31.664607Z",
     "shell.execute_reply": "2022-12-25T19:36:31.663602Z",
     "shell.execute_reply.started": "2022-12-25T19:36:31.657329Z"
    }
   },
   "outputs": [],
   "source": [
    "# Train labels\n",
    "y_train=tf.keras.utils.to_categorical(y_train)\n",
    "\n",
    "# Test labels\n",
    "y_val=tf.keras.utils.to_categorical(y_val)"
   ]
  },
  {
   "cell_type": "code",
   "execution_count": null,
   "metadata": {
    "execution": {
     "iopub.execute_input": "2022-12-25T19:36:31.666823Z",
     "iopub.status.busy": "2022-12-25T19:36:31.666395Z",
     "iopub.status.idle": "2022-12-25T19:36:31.675223Z",
     "shell.execute_reply": "2022-12-25T19:36:31.674212Z",
     "shell.execute_reply.started": "2022-12-25T19:36:31.666766Z"
    }
   },
   "outputs": [],
   "source": [
    "y_train.shape"
   ]
  },
  {
   "cell_type": "code",
   "execution_count": null,
   "metadata": {
    "execution": {
     "iopub.execute_input": "2022-12-25T19:36:31.676749Z",
     "iopub.status.busy": "2022-12-25T19:36:31.676336Z",
     "iopub.status.idle": "2022-12-25T19:36:31.907021Z",
     "shell.execute_reply": "2022-12-25T19:36:31.906193Z",
     "shell.execute_reply.started": "2022-12-25T19:36:31.676711Z"
    }
   },
   "outputs": [],
   "source": [
    "plt.imshow(X_train[0])\n",
    "print(get_name(np.argmax(y_train[0])))"
   ]
  },
  {
   "cell_type": "markdown",
   "metadata": {},
   "source": [
    "# Model [mobilenet_v2 224x224]"
   ]
  },
  {
   "cell_type": "code",
   "execution_count": null,
   "metadata": {
    "execution": {
     "iopub.execute_input": "2022-12-25T19:36:31.909361Z",
     "iopub.status.busy": "2022-12-25T19:36:31.909008Z",
     "iopub.status.idle": "2022-12-25T19:36:31.918835Z",
     "shell.execute_reply": "2022-12-25T19:36:31.917726Z",
     "shell.execute_reply.started": "2022-12-25T19:36:31.909327Z"
    }
   },
   "outputs": [],
   "source": [
    "def Convolution(Input, FC, alpha, kernel=(3, 3), stride=(1, 1)):\n",
    "\n",
    "    # channels_axis = -1 if channels_last || 1 if channels_first\n",
    "    channels_axis = -1\n",
    "\n",
    "    # alpha enable to change the filter count <FC>\n",
    "    FC = int(FC * alpha)\n",
    "\n",
    "    # padding: Int, or tuple of 2 ints, or tuple of 2 tuples of 2 ints.\n",
    "    # If int: the same symmetric padding is applied to height and width.\n",
    "    # If tuple of 2 ints: interpreted as two different symmetric padding values for height and width: (symmetric_height_pad, symmetric_width_pad).\n",
    "    # If tuple of 2 tuples of 2 ints: interpreted as ((top_pad, bottom_pad), (left_pad, right_pad))\n",
    "    x = tf.keras.layers.ZeroPadding2D(padding=((0, 1), (0, 1)), name='conv1_pad')(Input) \n",
    "\n",
    "    # padding = 'valid' where no padding applied or 'same' results in padding with zeros evenly to the left/right or up/down of the input\n",
    "    x = tf.keras.layers.Conv2D(FC, kernel,padding='valid',use_bias=False,strides=stride,name='conv1')(x)\n",
    " \n",
    "    # Batch-Normalization (BN) is an algorithmic method which makes the training of Deep Neural Networks (DNN) faster and more stable.\n",
    "    # It consists of normalizing activation vectors from hidden layers using the first and the second statistical moments (mean and variance) of the current batch. \n",
    "    # steps:=\n",
    "    # 1) The BN layer first determines the mean 𝜇 and the variance σ² of the activation values across the batch.\n",
    "    # 2) Then normalizes the activation vector.\n",
    "    # 3)  finally calculates the layer’s output by applying a linear transformation with 𝛾 and 𝛽, two trainable parameters.\n",
    "    # Such step allows the model to choose the optimum distribution for each hidden layers, by adjusting those two parameters.\n",
    "    # 𝛾 ==> allows to adjust the standard deviation.\n",
    "    # 𝛽 ==> allows to adjust the bias, shifting the curve on the right or on the left side.  \n",
    "    x = tf.keras.layers.BatchNormalization(axis=channels_axis, name='conv1_bn')(x)\n",
    "\n",
    "    \n",
    "    # With default values, it returns element-wise max(x, 0).\n",
    "    # Otherwise, it follows: f(x) = max_value for x >= max_value, \n",
    "    #                        f(x) = x for threshold <= x < max_value, \n",
    "    #                        f(x) = negative_slope * (x - threshold) otherwise.\n",
    "    # default: max_value=None, negative_slope=0.0, threshold=0.0\n",
    "    x =tf.keras.layers.ReLU(6.0, name='conv1_relu')(x) \n",
    "\n",
    "    return x"
   ]
  },
  {
   "cell_type": "code",
   "execution_count": null,
   "metadata": {
    "execution": {
     "iopub.execute_input": "2022-12-25T19:36:31.921088Z",
     "iopub.status.busy": "2022-12-25T19:36:31.920338Z",
     "iopub.status.idle": "2022-12-25T19:36:31.931750Z",
     "shell.execute_reply": "2022-12-25T19:36:31.930845Z",
     "shell.execute_reply.started": "2022-12-25T19:36:31.921050Z"
    }
   },
   "outputs": [],
   "source": [
    "def DepthwiseConvolutionBlock(Input, FC_pointwise_conv, alpha,depth_multiplier=1, stride=(1, 1), block_id=1):\n",
    "\n",
    "    # channels_axis = -1 if channels_last || 1 if channels_first\n",
    "    channels_axis = -1 \n",
    "\n",
    "    # alpha enable to change the filter count <FC>\n",
    "    FC_pointwise_conv = int(FC_pointwise_conv * alpha)\n",
    "\n",
    "    if stride == (1, 1):\n",
    "        x = Input\n",
    "    else:\n",
    "        x = tf.keras.layers.ZeroPadding2D(((0, 1), (0, 1)),name='conv_pad_%d' % block_id)(Input)\n",
    "\n",
    "    #========= first apply DEPTH WISE CONVOLUTION    \n",
    "    # depth_multiplier: The number of depthwise convolution output channels for each input channel. \n",
    "    # The total number of depthwise convolution output channels will be equal to filters_in * depth_multiplier.\n",
    "    x = tf.keras.layers.DepthwiseConv2D((3, 3),padding='same' if stride == (1, 1) else 'valid',depth_multiplier=depth_multiplier,strides=stride,use_bias=False,name='conv_dw_%d' % block_id)(x)\n",
    "    x = tf.keras.layers.BatchNormalization(axis=channels_axis, name='conv_dw_%d_bn' % block_id)(x)\n",
    "    x = tf.keras.layers.ReLU(6.0, name='conv_dw_%d_relu' % block_id)(x)\n",
    "\n",
    "    #========= second apply POINT WISE CONVOLUTION\n",
    "    x = tf.keras.layers.Conv2D(FC_pointwise_conv, (1, 1),padding='same',use_bias=False,strides=(1, 1),name='conv_pw_%d' % block_id)(x)\n",
    "    x = tf.keras.layers.BatchNormalization(axis=channels_axis,name='conv_pw_%d_bn' % block_id)(x)\n",
    "    x = tf.keras.layers.ReLU(6.0, name='conv_pw_%d_relu' % block_id)(x)\n",
    "    \n",
    "    return x"
   ]
  },
  {
   "cell_type": "code",
   "execution_count": null,
   "metadata": {
    "execution": {
     "iopub.execute_input": "2022-12-25T19:36:31.935055Z",
     "iopub.status.busy": "2022-12-25T19:36:31.934436Z",
     "iopub.status.idle": "2022-12-25T19:36:31.944223Z",
     "shell.execute_reply": "2022-12-25T19:36:31.943225Z",
     "shell.execute_reply.started": "2022-12-25T19:36:31.935018Z"
    }
   },
   "outputs": [],
   "source": [
    "input_shape=(224,224,3)\n",
    "alpha=1.0                           \n",
    "depth_multiplier=1                   \n",
    "dropout=0.001               \n",
    "classes=1000"
   ]
  },
  {
   "cell_type": "code",
   "execution_count": null,
   "metadata": {
    "execution": {
     "iopub.execute_input": "2022-12-25T19:36:31.946137Z",
     "iopub.status.busy": "2022-12-25T19:36:31.945736Z",
     "iopub.status.idle": "2022-12-25T19:36:33.392658Z",
     "shell.execute_reply": "2022-12-25T19:36:33.391710Z",
     "shell.execute_reply.started": "2022-12-25T19:36:31.946069Z"
    }
   },
   "outputs": [],
   "source": [
    "InputLayer = tf.keras.layers.Input(shape=input_shape)\n",
    "x = Convolution(InputLayer, 32, alpha, stride=(2, 2))\n",
    "x = DepthwiseConvolutionBlock(x, 64, alpha, depth_multiplier, block_id=1)\n",
    "x = DepthwiseConvolutionBlock(x, 128, alpha, depth_multiplier,stride=(2, 2), block_id=2)\n",
    "x = DepthwiseConvolutionBlock(x, 128, alpha, depth_multiplier, block_id=3)\n",
    "x = DepthwiseConvolutionBlock(x, 256, alpha, depth_multiplier, stride=(2, 2), block_id=4)\n",
    "x = DepthwiseConvolutionBlock(x, 256, alpha, depth_multiplier, block_id=5)\n",
    "x = DepthwiseConvolutionBlock(x, 512, alpha, depth_multiplier,stride=(2, 2), block_id=6)\n",
    "x = DepthwiseConvolutionBlock(x, 512, alpha, depth_multiplier, block_id=7)\n",
    "x = DepthwiseConvolutionBlock(x, 512, alpha, depth_multiplier, block_id=8)\n",
    "x = DepthwiseConvolutionBlock(x, 512, alpha, depth_multiplier, block_id=9)\n",
    "x = DepthwiseConvolutionBlock(x, 512, alpha, depth_multiplier, block_id=10)\n",
    "x = DepthwiseConvolutionBlock(x, 512, alpha, depth_multiplier, block_id=11)\n",
    "x = DepthwiseConvolutionBlock(x, 1024, alpha, depth_multiplier,stride=(2, 2), block_id=12)\n",
    "x = DepthwiseConvolutionBlock(x, 1024, alpha, depth_multiplier, block_id=13)"
   ]
  },
  {
   "cell_type": "code",
   "execution_count": null,
   "metadata": {
    "execution": {
     "iopub.execute_input": "2022-12-25T19:36:33.394830Z",
     "iopub.status.busy": "2022-12-25T19:36:33.393955Z",
     "iopub.status.idle": "2022-12-25T19:36:33.399696Z",
     "shell.execute_reply": "2022-12-25T19:36:33.398558Z",
     "shell.execute_reply.started": "2022-12-25T19:36:33.394790Z"
    }
   },
   "outputs": [],
   "source": [
    "shape = (1, 1, int(1024 * alpha))"
   ]
  },
  {
   "cell_type": "code",
   "execution_count": null,
   "metadata": {
    "execution": {
     "iopub.execute_input": "2022-12-25T19:36:33.402168Z",
     "iopub.status.busy": "2022-12-25T19:36:33.400993Z",
     "iopub.status.idle": "2022-12-25T19:36:33.436887Z",
     "shell.execute_reply": "2022-12-25T19:36:33.436041Z",
     "shell.execute_reply.started": "2022-12-25T19:36:33.402108Z"
    }
   },
   "outputs": [],
   "source": [
    "x = tf.keras.layers.GlobalAveragePooling2D()(x)\n",
    "x = tf.keras.layers.Reshape(shape, name='reshape_1')(x)\n",
    "x = tf.keras.layers.Dropout(dropout, name='dropout')(x)\n",
    "x = tf.keras.layers.Conv2D(classes, (1, 1),padding='same',name='conv_preds')(x)\n",
    "x = tf.keras.layers.Reshape((classes,), name='reshape_2')(x)\n",
    "x = tf.keras.layers.Activation('softmax', name='act_softmax')(x)"
   ]
  },
  {
   "cell_type": "code",
   "execution_count": null,
   "metadata": {
    "execution": {
     "iopub.execute_input": "2022-12-25T19:36:33.439021Z",
     "iopub.status.busy": "2022-12-25T19:36:33.438075Z",
     "iopub.status.idle": "2022-12-25T19:36:33.452185Z",
     "shell.execute_reply": "2022-12-25T19:36:33.451201Z",
     "shell.execute_reply.started": "2022-12-25T19:36:33.438975Z"
    }
   },
   "outputs": [],
   "source": [
    "# Create model.\n",
    "model = tf.keras.models.Model(InputLayer, x, name='mobilenet_%0.2f_%s' % (alpha, 224))"
   ]
  },
  {
   "cell_type": "code",
   "execution_count": null,
   "metadata": {
    "execution": {
     "iopub.execute_input": "2022-12-25T19:36:33.453930Z",
     "iopub.status.busy": "2022-12-25T19:36:33.453576Z",
     "iopub.status.idle": "2022-12-25T19:36:33.745823Z",
     "shell.execute_reply": "2022-12-25T19:36:33.744826Z",
     "shell.execute_reply.started": "2022-12-25T19:36:33.453894Z"
    }
   },
   "outputs": [],
   "source": [
    "# Load weights.\n",
    "model.load_weights('/kaggle/input/weights-data/weights.h5')"
   ]
  },
  {
   "cell_type": "code",
   "execution_count": null,
   "metadata": {
    "execution": {
     "iopub.execute_input": "2022-12-25T19:36:33.747605Z",
     "iopub.status.busy": "2022-12-25T19:36:33.747197Z",
     "iopub.status.idle": "2022-12-25T19:36:33.758480Z",
     "shell.execute_reply": "2022-12-25T19:36:33.757492Z",
     "shell.execute_reply.started": "2022-12-25T19:36:33.747565Z"
    }
   },
   "outputs": [],
   "source": [
    "len(model.layers)"
   ]
  },
  {
   "cell_type": "code",
   "execution_count": null,
   "metadata": {
    "execution": {
     "iopub.execute_input": "2022-12-25T19:36:33.762074Z",
     "iopub.status.busy": "2022-12-25T19:36:33.761809Z",
     "iopub.status.idle": "2022-12-25T19:36:33.778935Z",
     "shell.execute_reply": "2022-12-25T19:36:33.778018Z",
     "shell.execute_reply.started": "2022-12-25T19:36:33.762050Z"
    }
   },
   "outputs": [],
   "source": [
    "model.summary()"
   ]
  },
  {
   "cell_type": "code",
   "execution_count": null,
   "metadata": {
    "execution": {
     "iopub.execute_input": "2022-12-25T19:36:33.780686Z",
     "iopub.status.busy": "2022-12-25T19:36:33.780337Z",
     "iopub.status.idle": "2022-12-25T19:36:33.799357Z",
     "shell.execute_reply": "2022-12-25T19:36:33.798526Z",
     "shell.execute_reply.started": "2022-12-25T19:36:33.780653Z"
    }
   },
   "outputs": [],
   "source": [
    "model.compile(\n",
    "  optimizer=tf.keras.optimizers.SGD(lr=0.005, momentum=0.9), \n",
    "  loss=tf.keras.losses.CategoricalCrossentropy(from_logits=True, label_smoothing=0.1),\n",
    "  metrics=['accuracy'])"
   ]
  },
  {
   "cell_type": "code",
   "execution_count": null,
   "metadata": {
    "execution": {
     "iopub.execute_input": "2022-12-25T19:36:33.801848Z",
     "iopub.status.busy": "2022-12-25T19:36:33.801518Z",
     "iopub.status.idle": "2022-12-25T19:36:34.004114Z",
     "shell.execute_reply": "2022-12-25T19:36:34.003247Z",
     "shell.execute_reply.started": "2022-12-25T19:36:33.801816Z"
    }
   },
   "outputs": [],
   "source": [
    "classes = 6\n",
    "model2 = tf.keras.models.Sequential([\n",
    "    tf.keras.layers.InputLayer((224,224,3)),\n",
    "    model,\n",
    "    tf.keras.layers.Dropout(0.2),\n",
    "    tf.keras.layers.Dense(classes)\n",
    "])"
   ]
  },
  {
   "cell_type": "code",
   "execution_count": null,
   "metadata": {
    "execution": {
     "iopub.execute_input": "2022-12-25T19:36:34.007292Z",
     "iopub.status.busy": "2022-12-25T19:36:34.007025Z",
     "iopub.status.idle": "2022-12-25T19:36:34.017855Z",
     "shell.execute_reply": "2022-12-25T19:36:34.016793Z",
     "shell.execute_reply.started": "2022-12-25T19:36:34.007268Z"
    }
   },
   "outputs": [],
   "source": [
    "model2.summary()"
   ]
  },
  {
   "cell_type": "code",
   "execution_count": null,
   "metadata": {
    "execution": {
     "iopub.execute_input": "2022-12-25T19:36:34.029997Z",
     "iopub.status.busy": "2022-12-25T19:36:34.027983Z",
     "iopub.status.idle": "2022-12-25T19:36:34.040706Z",
     "shell.execute_reply": "2022-12-25T19:36:34.039453Z",
     "shell.execute_reply.started": "2022-12-25T19:36:34.029971Z"
    }
   },
   "outputs": [],
   "source": [
    "model2.compile(\n",
    "  optimizer=tf.keras.optimizers.SGD(lr=0.005, momentum=0.9), \n",
    "  loss=tf.keras.losses.CategoricalCrossentropy(from_logits=True, label_smoothing=0.1),\n",
    "  metrics=['accuracy'])"
   ]
  },
  {
   "cell_type": "markdown",
   "metadata": {},
   "source": [
    "# Training without Augmentation "
   ]
  },
  {
   "cell_type": "code",
   "execution_count": null,
   "metadata": {
    "execution": {
     "iopub.execute_input": "2022-12-25T19:36:34.042912Z",
     "iopub.status.busy": "2022-12-25T19:36:34.042423Z",
     "iopub.status.idle": "2022-12-25T19:47:22.120013Z",
     "shell.execute_reply": "2022-12-25T19:47:22.119042Z",
     "shell.execute_reply.started": "2022-12-25T19:36:34.042876Z"
    }
   },
   "outputs": [],
   "source": [
    "Epochs=100\n",
    "early_stopping = tf.keras.callbacks.EarlyStopping(monitor='val_loss', patience=5,restore_best_weights=True)\n",
    "history = model2.fit(X_train,y_train,\n",
    "                    epochs=Epochs,\n",
    "                    validation_data=(X_val,y_val),\n",
    "                    batch_size=32,\n",
    "                    verbose=1)#,callbacks=[early_stopping]"
   ]
  },
  {
   "cell_type": "code",
   "execution_count": null,
   "metadata": {
    "execution": {
     "iopub.execute_input": "2022-12-25T19:47:22.121985Z",
     "iopub.status.busy": "2022-12-25T19:47:22.121620Z",
     "iopub.status.idle": "2022-12-25T19:47:22.129898Z",
     "shell.execute_reply": "2022-12-25T19:47:22.128918Z",
     "shell.execute_reply.started": "2022-12-25T19:47:22.121949Z"
    }
   },
   "outputs": [],
   "source": [
    "history.history.keys()"
   ]
  },
  {
   "cell_type": "code",
   "execution_count": null,
   "metadata": {
    "execution": {
     "iopub.execute_input": "2022-12-25T19:47:22.132642Z",
     "iopub.status.busy": "2022-12-25T19:47:22.131435Z",
     "iopub.status.idle": "2022-12-25T19:47:22.670003Z",
     "shell.execute_reply": "2022-12-25T19:47:22.668929Z",
     "shell.execute_reply.started": "2022-12-25T19:47:22.132605Z"
    }
   },
   "outputs": [],
   "source": [
    "training_accuracy = history.history['accuracy']\n",
    "validation_accuracy = history.history['val_accuracy']\n",
    "\n",
    "training_loss = history.history['loss']\n",
    "validation_loss = history.history['val_loss']\n",
    "\n",
    "epochs_range=range(Epochs)\n",
    "\n",
    "plt.figure(figsize=(8, 8))\n",
    "plt.subplot(1, 2, 1)\n",
    "plt.plot(epochs_range, training_accuracy, label='Training Accuracy')\n",
    "plt.plot(epochs_range, validation_accuracy, label='Validation Accuracy')\n",
    "plt.legend(loc='lower right')\n",
    "plt.title('Training and Validation Accuracy')\n",
    "\n",
    "plt.subplot(1, 2, 2)\n",
    "plt.plot(epochs_range, training_loss, label='Training Loss')\n",
    "plt.plot(epochs_range, validation_loss, label='Validation Loss')\n",
    "plt.legend(loc='upper right')\n",
    "plt.title('Training and Validation Loss')\n",
    "plt.show()"
   ]
  },
  {
   "cell_type": "code",
   "execution_count": null,
   "metadata": {
    "execution": {
     "iopub.execute_input": "2022-12-25T19:47:22.672146Z",
     "iopub.status.busy": "2022-12-25T19:47:22.671506Z",
     "iopub.status.idle": "2022-12-25T19:47:26.225401Z",
     "shell.execute_reply": "2022-12-25T19:47:26.224452Z",
     "shell.execute_reply.started": "2022-12-25T19:47:22.672107Z"
    }
   },
   "outputs": [],
   "source": [
    "model2.evaluate(X_train,y_train)"
   ]
  },
  {
   "cell_type": "code",
   "execution_count": null,
   "metadata": {
    "execution": {
     "iopub.execute_input": "2022-12-25T19:47:26.227402Z",
     "iopub.status.busy": "2022-12-25T19:47:26.227037Z",
     "iopub.status.idle": "2022-12-25T19:47:27.042057Z",
     "shell.execute_reply": "2022-12-25T19:47:27.041133Z",
     "shell.execute_reply.started": "2022-12-25T19:47:26.227366Z"
    }
   },
   "outputs": [],
   "source": [
    "model2.evaluate(X_val,y_val)"
   ]
  },
  {
   "cell_type": "markdown",
   "metadata": {},
   "source": [
    "# Saving the model"
   ]
  },
  {
   "cell_type": "code",
   "execution_count": null,
   "metadata": {
    "execution": {
     "iopub.execute_input": "2022-12-25T19:47:27.043944Z",
     "iopub.status.busy": "2022-12-25T19:47:27.043477Z",
     "iopub.status.idle": "2022-12-25T19:47:27.302535Z",
     "shell.execute_reply": "2022-12-25T19:47:27.301245Z",
     "shell.execute_reply.started": "2022-12-25T19:47:27.043903Z"
    }
   },
   "outputs": [],
   "source": [
    "saved_keras_model_filepath = '/kaggle/working/{}.h5'.format(\"sports image classification using mobilenet without Augmentation\")\n",
    "model2.save(saved_keras_model_filepath)"
   ]
  },
  {
   "cell_type": "markdown",
   "metadata": {},
   "source": [
    "# Training with Augmentation "
   ]
  },
  {
   "cell_type": "code",
   "execution_count": null,
   "metadata": {
    "execution": {
     "iopub.execute_input": "2022-12-25T19:47:27.304689Z",
     "iopub.status.busy": "2022-12-25T19:47:27.304293Z",
     "iopub.status.idle": "2022-12-25T19:47:27.310668Z",
     "shell.execute_reply": "2022-12-25T19:47:27.309549Z",
     "shell.execute_reply.started": "2022-12-25T19:47:27.304650Z"
    }
   },
   "outputs": [],
   "source": [
    "train_generator = ImageDataGenerator(    \n",
    "    rotation_range=0.5,\n",
    "    width_shift_range=0.2,\n",
    "    height_shift_range=0.1,\n",
    "    shear_range=0.1,\n",
    "    zoom_range=0.2,\n",
    "    horizontal_flip=True,\n",
    ")"
   ]
  },
  {
   "cell_type": "code",
   "execution_count": null,
   "metadata": {
    "execution": {
     "iopub.execute_input": "2022-12-25T19:47:27.313060Z",
     "iopub.status.busy": "2022-12-25T19:47:27.312325Z",
     "iopub.status.idle": "2022-12-25T20:13:42.967430Z",
     "shell.execute_reply": "2022-12-25T20:13:42.966473Z",
     "shell.execute_reply.started": "2022-12-25T19:47:27.312982Z"
    }
   },
   "outputs": [],
   "source": [
    "Epochs=100\n",
    "Batch_size=32\n",
    "early_stopping = tf.keras.callbacks.EarlyStopping(monitor='val_loss', patience=5,restore_best_weights=True)\n",
    "history = model2.fit(train_generator.flow(X_train,y_train,batch_size=Batch_size,seed=27,shuffle=False),\n",
    "                    epochs=Epochs,\n",
    "                    steps_per_epoch=X_train.shape[0] // Batch_size,\n",
    "                    validation_data=(X_val,y_val),\n",
    "                    verbose=1)"
   ]
  },
  {
   "cell_type": "code",
   "execution_count": null,
   "metadata": {
    "execution": {
     "iopub.execute_input": "2022-12-25T20:13:42.969518Z",
     "iopub.status.busy": "2022-12-25T20:13:42.969131Z",
     "iopub.status.idle": "2022-12-25T20:13:42.977322Z",
     "shell.execute_reply": "2022-12-25T20:13:42.976202Z",
     "shell.execute_reply.started": "2022-12-25T20:13:42.969457Z"
    }
   },
   "outputs": [],
   "source": [
    "history.history.keys()"
   ]
  },
  {
   "cell_type": "code",
   "execution_count": null,
   "metadata": {
    "execution": {
     "iopub.execute_input": "2022-12-25T20:13:42.979835Z",
     "iopub.status.busy": "2022-12-25T20:13:42.979076Z",
     "iopub.status.idle": "2022-12-25T20:13:43.293312Z",
     "shell.execute_reply": "2022-12-25T20:13:43.292400Z",
     "shell.execute_reply.started": "2022-12-25T20:13:42.979799Z"
    }
   },
   "outputs": [],
   "source": [
    "training_accuracy = history.history['accuracy']\n",
    "validation_accuracy = history.history['val_accuracy']\n",
    "\n",
    "training_loss = history.history['loss']\n",
    "validation_loss = history.history['val_loss']\n",
    "\n",
    "epochs_range=range(Epochs)\n",
    "\n",
    "plt.figure(figsize=(8, 8))\n",
    "plt.subplot(1, 2, 1)\n",
    "plt.plot(epochs_range, training_accuracy, label='Training Accuracy')\n",
    "plt.plot(epochs_range, validation_accuracy, label='Validation Accuracy')\n",
    "plt.legend(loc='lower right')\n",
    "plt.title('Training and Validation Accuracy')\n",
    "\n",
    "plt.subplot(1, 2, 2)\n",
    "plt.plot(epochs_range, training_loss, label='Training Loss')\n",
    "plt.plot(epochs_range, validation_loss, label='Validation Loss')\n",
    "plt.legend(loc='upper right')\n",
    "plt.title('Training and Validation Loss')\n",
    "plt.show()"
   ]
  },
  {
   "cell_type": "code",
   "execution_count": null,
   "metadata": {
    "execution": {
     "iopub.execute_input": "2022-12-25T20:13:43.295065Z",
     "iopub.status.busy": "2022-12-25T20:13:43.294729Z",
     "iopub.status.idle": "2022-12-25T20:13:46.936421Z",
     "shell.execute_reply": "2022-12-25T20:13:46.935521Z",
     "shell.execute_reply.started": "2022-12-25T20:13:43.295031Z"
    }
   },
   "outputs": [],
   "source": [
    "model2.evaluate(X_train,y_train)"
   ]
  },
  {
   "cell_type": "code",
   "execution_count": null,
   "metadata": {
    "execution": {
     "iopub.execute_input": "2022-12-25T20:13:46.938328Z",
     "iopub.status.busy": "2022-12-25T20:13:46.937962Z",
     "iopub.status.idle": "2022-12-25T20:13:47.731878Z",
     "shell.execute_reply": "2022-12-25T20:13:47.730972Z",
     "shell.execute_reply.started": "2022-12-25T20:13:46.938292Z"
    }
   },
   "outputs": [],
   "source": [
    "model2.evaluate(X_val,y_val)"
   ]
  },
  {
   "cell_type": "markdown",
   "metadata": {},
   "source": [
    "# Saving the model"
   ]
  },
  {
   "cell_type": "code",
   "execution_count": null,
   "metadata": {
    "execution": {
     "iopub.execute_input": "2022-12-25T20:13:47.734135Z",
     "iopub.status.busy": "2022-12-25T20:13:47.733524Z",
     "iopub.status.idle": "2022-12-25T20:13:47.944580Z",
     "shell.execute_reply": "2022-12-25T20:13:47.943623Z",
     "shell.execute_reply.started": "2022-12-25T20:13:47.734096Z"
    }
   },
   "outputs": [],
   "source": [
    "saved_keras_model_filepath = '/kaggle/working/{}.h5'.format(\"sports image classification using mobilenet with Augmentation\")\n",
    "model2.save(saved_keras_model_filepath)"
   ]
  },
  {
   "cell_type": "markdown",
   "metadata": {},
   "source": [
    "# Load the model"
   ]
  },
  {
   "cell_type": "code",
   "execution_count": null,
   "metadata": {
    "execution": {
     "iopub.execute_input": "2022-12-25T20:32:26.766213Z",
     "iopub.status.busy": "2022-12-25T20:32:26.765807Z",
     "iopub.status.idle": "2022-12-25T20:32:27.958551Z",
     "shell.execute_reply": "2022-12-25T20:32:27.957549Z",
     "shell.execute_reply.started": "2022-12-25T20:32:26.766181Z"
    }
   },
   "outputs": [],
   "source": [
    "reloaded_keras_model=tf.keras.models.load_model('/kaggle/input/model-station1/model station1.h5')\n",
    "reloaded_keras_model.summary()"
   ]
  },
  {
   "cell_type": "markdown",
   "metadata": {},
   "source": [
    "# Predict our test data"
   ]
  },
  {
   "cell_type": "code",
   "execution_count": null,
   "metadata": {
    "execution": {
     "iopub.execute_input": "2022-12-25T20:32:32.184620Z",
     "iopub.status.busy": "2022-12-25T20:32:32.184220Z",
     "iopub.status.idle": "2022-12-25T20:32:32.190630Z",
     "shell.execute_reply": "2022-12-25T20:32:32.189294Z",
     "shell.execute_reply.started": "2022-12-25T20:32:32.184587Z"
    }
   },
   "outputs": [],
   "source": [
    "test_path =r\"/kaggle/input/nn23-sports-image-classification/Test\"\n",
    "test_imgs=os.listdir(test_path)"
   ]
  },
  {
   "cell_type": "code",
   "execution_count": null,
   "metadata": {
    "execution": {
     "iopub.execute_input": "2022-12-25T20:32:35.348127Z",
     "iopub.status.busy": "2022-12-25T20:32:35.347751Z",
     "iopub.status.idle": "2022-12-25T20:32:41.167980Z",
     "shell.execute_reply": "2022-12-25T20:32:41.166844Z",
     "shell.execute_reply.started": "2022-12-25T20:32:35.348096Z"
    }
   },
   "outputs": [],
   "source": [
    "# reading test data\n",
    "l_test=reading_resize(test_imgs,test_path,image_size)"
   ]
  },
  {
   "cell_type": "code",
   "execution_count": null,
   "metadata": {
    "execution": {
     "iopub.execute_input": "2022-12-25T20:32:44.967199Z",
     "iopub.status.busy": "2022-12-25T20:32:44.966586Z",
     "iopub.status.idle": "2022-12-25T20:32:45.009995Z",
     "shell.execute_reply": "2022-12-25T20:32:45.008790Z",
     "shell.execute_reply.started": "2022-12-25T20:32:44.967162Z"
    }
   },
   "outputs": [],
   "source": [
    "test = np.array(l_test)\n",
    "print(test.shape)"
   ]
  },
  {
   "cell_type": "code",
   "execution_count": null,
   "metadata": {
    "execution": {
     "iopub.execute_input": "2022-12-25T20:32:48.692035Z",
     "iopub.status.busy": "2022-12-25T20:32:48.691200Z",
     "iopub.status.idle": "2022-12-25T20:32:48.920350Z",
     "shell.execute_reply": "2022-12-25T20:32:48.919439Z",
     "shell.execute_reply.started": "2022-12-25T20:32:48.691995Z"
    }
   },
   "outputs": [],
   "source": [
    "plt.imshow(test[200])"
   ]
  },
  {
   "cell_type": "code",
   "execution_count": null,
   "metadata": {
    "execution": {
     "iopub.execute_input": "2022-12-25T20:32:53.456455Z",
     "iopub.status.busy": "2022-12-25T20:32:53.455432Z",
     "iopub.status.idle": "2022-12-25T20:32:53.460667Z",
     "shell.execute_reply": "2022-12-25T20:32:53.459660Z",
     "shell.execute_reply.started": "2022-12-25T20:32:53.456416Z"
    }
   },
   "outputs": [],
   "source": [
    "test_names=[]\n",
    "for g in test_imgs:   \n",
    "    test_names.append(g)"
   ]
  },
  {
   "cell_type": "code",
   "execution_count": null,
   "metadata": {
    "execution": {
     "iopub.execute_input": "2022-12-25T20:32:58.309150Z",
     "iopub.status.busy": "2022-12-25T20:32:58.308755Z",
     "iopub.status.idle": "2022-12-25T20:32:58.316111Z",
     "shell.execute_reply": "2022-12-25T20:32:58.314915Z",
     "shell.execute_reply.started": "2022-12-25T20:32:58.309117Z"
    },
    "scrolled": true
   },
   "outputs": [],
   "source": [
    "len(test_names)"
   ]
  },
  {
   "cell_type": "code",
   "execution_count": null,
   "metadata": {
    "execution": {
     "iopub.execute_input": "2022-12-25T20:33:00.798544Z",
     "iopub.status.busy": "2022-12-25T20:33:00.797533Z",
     "iopub.status.idle": "2022-12-25T20:33:01.055854Z",
     "shell.execute_reply": "2022-12-25T20:33:01.054712Z",
     "shell.execute_reply.started": "2022-12-25T20:33:00.798476Z"
    }
   },
   "outputs": [],
   "source": [
    "#normalize\n",
    "test=test/255.0"
   ]
  },
  {
   "cell_type": "code",
   "execution_count": null,
   "metadata": {
    "execution": {
     "iopub.execute_input": "2022-12-25T20:33:05.049433Z",
     "iopub.status.busy": "2022-12-25T20:33:05.048444Z",
     "iopub.status.idle": "2022-12-25T20:33:06.953626Z",
     "shell.execute_reply": "2022-12-25T20:33:06.952572Z",
     "shell.execute_reply.started": "2022-12-25T20:33:05.049391Z"
    }
   },
   "outputs": [],
   "source": [
    "test_out=reloaded_keras_model.predict(test)"
   ]
  },
  {
   "cell_type": "code",
   "execution_count": null,
   "metadata": {
    "execution": {
     "iopub.execute_input": "2022-12-25T20:33:10.876475Z",
     "iopub.status.busy": "2022-12-25T20:33:10.875459Z",
     "iopub.status.idle": "2022-12-25T20:33:13.132964Z",
     "shell.execute_reply": "2022-12-25T20:33:13.131599Z",
     "shell.execute_reply.started": "2022-12-25T20:33:10.876431Z"
    }
   },
   "outputs": [],
   "source": [
    "#pred\n",
    "p=test_out\n",
    "\n",
    "plt.figure(figsize=(25,25))\n",
    "for i in range(25):\n",
    "    plt.subplot(5,5,i+1)\n",
    "    plt.xticks([])\n",
    "    plt.yticks([])\n",
    "    plt.grid(False)\n",
    "    plt.imshow(test[i])\n",
    "    plt.xlabel(get_name(np.argmax(p[i])))\n",
    "plt.show()"
   ]
  },
  {
   "cell_type": "code",
   "execution_count": null,
   "metadata": {
    "execution": {
     "iopub.execute_input": "2022-12-25T20:33:25.976652Z",
     "iopub.status.busy": "2022-12-25T20:33:25.976262Z",
     "iopub.status.idle": "2022-12-25T20:33:25.991750Z",
     "shell.execute_reply": "2022-12-25T20:33:25.990550Z",
     "shell.execute_reply.started": "2022-12-25T20:33:25.976617Z"
    }
   },
   "outputs": [],
   "source": [
    "pred_out=[]\n",
    "for i in range(len(test_out)):\n",
    "    label=np.argmax(test_out[i])\n",
    "    pred_out.append([test_names[i],label])"
   ]
  },
  {
   "cell_type": "code",
   "execution_count": null,
   "metadata": {
    "execution": {
     "iopub.execute_input": "2022-12-25T20:16:31.629098Z",
     "iopub.status.busy": "2022-12-25T20:16:31.628467Z",
     "iopub.status.idle": "2022-12-25T20:16:31.633267Z",
     "shell.execute_reply": "2022-12-25T20:16:31.632246Z",
     "shell.execute_reply.started": "2022-12-25T20:16:31.629062Z"
    }
   },
   "outputs": [],
   "source": [
    "# pred_out"
   ]
  },
  {
   "cell_type": "code",
   "execution_count": null,
   "metadata": {
    "execution": {
     "iopub.execute_input": "2022-12-25T20:33:30.091966Z",
     "iopub.status.busy": "2022-12-25T20:33:30.091379Z",
     "iopub.status.idle": "2022-12-25T20:33:30.107362Z",
     "shell.execute_reply": "2022-12-25T20:33:30.106420Z",
     "shell.execute_reply.started": "2022-12-25T20:33:30.091913Z"
    }
   },
   "outputs": [],
   "source": [
    "Datapd=pd.DataFrame(pred_out,columns=['image_name','label'])\n",
    "Datapd.head()"
   ]
  },
  {
   "cell_type": "code",
   "execution_count": null,
   "metadata": {
    "execution": {
     "iopub.execute_input": "2022-12-25T20:33:35.621848Z",
     "iopub.status.busy": "2022-12-25T20:33:35.621450Z",
     "iopub.status.idle": "2022-12-25T20:33:35.630248Z",
     "shell.execute_reply": "2022-12-25T20:33:35.629289Z",
     "shell.execute_reply.started": "2022-12-25T20:33:35.621817Z"
    }
   },
   "outputs": [],
   "source": [
    "Datapd.to_csv('/kaggle/working/sports_6_classs_preds__.csv',index=False)"
   ]
  },
  {
   "cell_type": "code",
   "execution_count": null,
   "metadata": {},
   "outputs": [],
   "source": []
  }
 ],
 "metadata": {
  "accelerator": "TPU",
  "colab": {
   "provenance": []
  },
  "gpuClass": "standard",
  "kernelspec": {
   "display_name": "Python 3 (ipykernel)",
   "language": "python",
   "name": "python3"
  },
  "language_info": {
   "codemirror_mode": {
    "name": "ipython",
    "version": 3
   },
   "file_extension": ".py",
   "mimetype": "text/x-python",
   "name": "python",
   "nbconvert_exporter": "python",
   "pygments_lexer": "ipython3",
   "version": "3.9.13"
  },
  "vscode": {
   "interpreter": {
    "hash": "84976c5d2aba617274fbfe9af845993963f0449ea5ee6effa8b705e2751479eb"
   }
  }
 },
 "nbformat": 4,
 "nbformat_minor": 4
}
